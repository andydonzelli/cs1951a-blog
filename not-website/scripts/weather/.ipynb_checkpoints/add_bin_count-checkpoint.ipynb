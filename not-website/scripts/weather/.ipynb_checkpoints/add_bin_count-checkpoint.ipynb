{
 "cells": [
  {
   "cell_type": "code",
   "execution_count": 31,
   "metadata": {},
   "outputs": [],
   "source": [
    "import numpy as np\n",
    "import random\n",
    "import csv\n",
    "\n",
    "from collections import Counter\n",
    "from operator import itemgetter\n",
    "from datetime import datetime\n",
    "import sys\n",
    "from collections import Counter"
   ]
  },
  {
   "cell_type": "markdown",
   "metadata": {},
   "source": [
    "## Clean data"
   ]
  },
  {
   "cell_type": "code",
   "execution_count": 35,
   "metadata": {},
   "outputs": [],
   "source": [
    "data = []\n",
    "file_path = \"2014_brooklyn_weather.csv\"\n",
    "with open(file_path, 'r', encoding='latin1') as file_reader:\n",
    "    reader = csv.reader(file_reader, delimiter=',', quotechar='\"')\n",
    "    for row in reader:\n",
    "        for i in range(len(row)):\n",
    "            if i == 0:\n",
    "                data.append(row[i])"
   ]
  },
  {
   "cell_type": "code",
   "execution_count": 39,
   "metadata": {},
   "outputs": [
    {
     "name": "stdout",
     "output_type": "stream",
     "text": [
      "bin_time \n",
      "\n",
      "586172\n"
     ]
    }
   ],
   "source": [
    "header = data[0]\n",
    "new_data = data[1:]\n",
    "print(header, \"\\n\")\n",
    "print(len(new_data))"
   ]
  },
  {
   "cell_type": "code",
   "execution_count": 133,
   "metadata": {},
   "outputs": [
    {
     "name": "stdout",
     "output_type": "stream",
     "text": [
      "8758\n",
      "8542\n",
      "8758\n"
     ]
    }
   ],
   "source": [
    "bin_counter = Counter()\n",
    "\n",
    "num_rides = int(new_data[-1])\n",
    "print(num_rides)\n",
    "\n",
    "# Increment counts\n",
    "for bin_time in new_data:\n",
    "    bin_counter[int(bin_time)] += 1\n",
    "print(len(bin_counter))\n",
    "\n",
    "# Fill in missing counts\n",
    "full_counts = []\n",
    "for i in range(num_rides):\n",
    "      full_counts.append([i, bin_counter[i]])\n",
    "print(len(full_counts))\n"
   ]
  },
  {
   "cell_type": "code",
   "execution_count": 134,
   "metadata": {},
   "outputs": [],
   "source": [
    "with open('bin_count.csv', 'w', newline='') as csvfile:\n",
    "    fieldnames = ['bin_time', 'bin_count']\n",
    "    writer = csv.writer(csvfile)\n",
    "    writer.writerow(fieldnames)\n",
    "    for row in full_counts:\n",
    "        writer.writerow(row)"
   ]
  }
 ],
 "metadata": {
  "kernelspec": {
   "display_name": "Python 3",
   "language": "python",
   "name": "python3"
  },
  "language_info": {
   "codemirror_mode": {
    "name": "ipython",
    "version": 3
   },
   "file_extension": ".py",
   "mimetype": "text/x-python",
   "name": "python",
   "nbconvert_exporter": "python",
   "pygments_lexer": "ipython3",
   "version": "3.7.3"
  }
 },
 "nbformat": 4,
 "nbformat_minor": 2
}
