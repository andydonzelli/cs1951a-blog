{
 "cells": [
  {
   "cell_type": "code",
   "execution_count": 22,
   "metadata": {},
   "outputs": [],
   "source": [
    "import numpy as np\n",
    "import pandas as pd\n",
    "import random\n",
    "import csv\n",
    "from sklearn import linear_model\n",
    "from sklearn.linear_model import LinearRegression\n",
    "from sklearn.metrics import r2_score, mean_squared_error\n",
    "from scipy import stats\n",
    "import matplotlib.pyplot as plt\n",
    "from collections import Counter\n",
    "from operator import itemgetter\n",
    "from datetime import datetime\n",
    "import sys\n",
    "from sklearn.preprocessing import PolynomialFeatures\n",
    "from sklearn.linear_model import Ridge\n",
    "from sklearn.pipeline import make_pipeline\n",
    "import statsmodels.api as sm"
   ]
  },
  {
   "cell_type": "markdown",
   "metadata": {},
   "source": [
    "## Clean data"
   ]
  },
  {
   "cell_type": "code",
   "execution_count": 2,
   "metadata": {},
   "outputs": [],
   "source": [
    "data = []\n",
    "file_path = \"brooklyn_weather.csv\"\n",
    "with open(file_path, 'r', encoding='latin1') as file_reader:\n",
    "    reader = csv.reader(file_reader, delimiter=',', quotechar='\"')\n",
    "    for row in reader:\n",
    "        data.append(row)"
   ]
  },
  {
   "cell_type": "code",
   "execution_count": 3,
   "metadata": {},
   "outputs": [
    {
     "name": "stdout",
     "output_type": "stream",
     "text": [
      "['bin_time', 'company', 'unix_time', 'sunny', 'windy', 'rainy', 'cloudy', 'temp', 'dew_point', 'uv_index', 'precip_intensity', 'wind_speed', 'cloud_cover', 'apparent_temperature'] \n",
      "\n"
     ]
    }
   ],
   "source": [
    "header = data[0]\n",
    "print(header, \"\\n\")"
   ]
  },
  {
   "cell_type": "code",
   "execution_count": 4,
   "metadata": {},
   "outputs": [],
   "source": [
    "# Convert values to floats (leave company as string)\n",
    "var_data = data[1:]\n",
    "clean_var_data = []\n",
    "for row in var_data:\n",
    "    r = []\n",
    "    for i in range(len(row)):\n",
    "        if i != 1:\n",
    "            r.append(float(row[i]))\n",
    "        else:\n",
    "            r.append(row[i])\n",
    "    clean_var_data.append(r)"
   ]
  },
  {
   "cell_type": "code",
   "execution_count": 5,
   "metadata": {},
   "outputs": [
    {
     "name": "stdout",
     "output_type": "stream",
     "text": [
      "[0.0, 'Uber', 1406867400.0, 1.0, 0.0, 0.0, 0.0, 72.6, 65.06, 0.0, 0.0, 1.27, 0.37, 73.19]\n"
     ]
    }
   ],
   "source": [
    "print(clean_var_data[1])"
   ]
  },
  {
   "cell_type": "code",
   "execution_count": 6,
   "metadata": {},
   "outputs": [],
   "source": [
    "# Convert data to numpy array (w/o company)\n",
    "data_array = np.delete(np.array(clean_var_data), 1, 1).astype(np.float)"
   ]
  },
  {
   "cell_type": "code",
   "execution_count": 7,
   "metadata": {
    "scrolled": true
   },
   "outputs": [
    {
     "name": "stdout",
     "output_type": "stream",
     "text": [
      "['bin_time', 'unix_time', 'sunny', 'windy', 'rainy', 'cloudy', 'temp', 'dew_point', 'uv_index', 'precip_intensity', 'wind_speed', 'cloud_cover', 'apparent_temperature'] \n",
      "\n",
      "[0.0000000e+00 1.4068665e+09 1.0000000e+00 0.0000000e+00 0.0000000e+00\n",
      " 0.0000000e+00 7.2600000e+01 6.5060000e+01 0.0000000e+00 0.0000000e+00\n",
      " 1.2700000e+00 3.7000000e-01 7.3190000e+01]\n"
     ]
    }
   ],
   "source": [
    "print([header[0]] + header[2:], \"\\n\")\n",
    "print(data_array[0])"
   ]
  },
  {
   "cell_type": "code",
   "execution_count": 8,
   "metadata": {},
   "outputs": [
    {
     "name": "stdout",
     "output_type": "stream",
     "text": [
      "[ 1.      1.      1.      1.      1.      1.     90.96   74.3     9.\n",
      "  0.1847  7.27    1.     98.83  ]\n"
     ]
    }
   ],
   "source": [
    "# Get max of each variable\n",
    "maxs = data_array.max(axis=0)\n",
    "\n",
    "# Set irrelevant max variables to 1.0:\n",
    "# - bin_time : 0\n",
    "# - unix_time : 1\n",
    "maxs[:2] = 1.0\n",
    "print(maxs)"
   ]
  },
  {
   "cell_type": "code",
   "execution_count": 9,
   "metadata": {},
   "outputs": [],
   "source": [
    "# Normalize relevant variables\n",
    "normalized_data = np.divide(data_array, maxs)"
   ]
  },
  {
   "cell_type": "code",
   "execution_count": 10,
   "metadata": {},
   "outputs": [
    {
     "name": "stdout",
     "output_type": "stream",
     "text": [
      "[0.00000000e+00 1.40686650e+09 1.00000000e+00 0.00000000e+00\n",
      " 0.00000000e+00 0.00000000e+00 7.98153034e-01 8.75639300e-01\n",
      " 0.00000000e+00 0.00000000e+00 1.74690509e-01 3.70000000e-01\n",
      " 7.40564606e-01]\n"
     ]
    }
   ],
   "source": [
    "print(normalized_data[0])"
   ]
  },
  {
   "cell_type": "code",
   "execution_count": 11,
   "metadata": {},
   "outputs": [],
   "source": [
    "# Insert company info back\n",
    "normalized_list = normalized_data.tolist()\n",
    "i = 0\n",
    "for row in normalized_list:\n",
    "    row.insert(1, clean_var_data[i][1])\n",
    "    i += 1"
   ]
  },
  {
   "cell_type": "code",
   "execution_count": 12,
   "metadata": {},
   "outputs": [
    {
     "name": "stdout",
     "output_type": "stream",
     "text": [
      "['bin_time', 'company', 'unix_time', 'sunny', 'windy', 'rainy', 'cloudy', 'temp', 'dew_point', 'uv_index', 'precip_intensity', 'wind_speed', 'cloud_cover', 'apparent_temperature'] \n",
      "\n",
      "[1462.0, 'citi', 1412132212.0, 0.0, 0.0, 0.0, 1.0, 0.7021767810026386, 0.7868102288021535, 0.0, 0.0, 0.2792297111416781, 0.93, 0.6462612567034302]\n"
     ]
    }
   ],
   "source": [
    "print(header, \"\\n\")\n",
    "print(normalized_list[2013045])"
   ]
  },
  {
   "cell_type": "code",
   "execution_count": 13,
   "metadata": {},
   "outputs": [],
   "source": [
    "# Spit data based on company\n",
    "uber, lyft, citi, green_taxi, yellow_taxi = [], [], [], [], []\n",
    "\n",
    "for row in normalized_list:\n",
    "    if row[1] == 'Uber':\n",
    "        uber.append(row)\n",
    "    elif row[1] == 'Lyft':\n",
    "        lyft.append(row)\n",
    "    elif row[1] == 'citi':\n",
    "        citi.append(row)\n",
    "    elif row[1] == 'green_taxi':\n",
    "        green_taxi.append(row)\n",
    "    elif row[1] == 'yellow_taxi':\n",
    "        yellow_taxi.append(row)\n",
    "    else:\n",
    "        print(\"Company not found!\")\n",
    "        break;"
   ]
  },
  {
   "cell_type": "code",
   "execution_count": 14,
   "metadata": {},
   "outputs": [
    {
     "name": "stdout",
     "output_type": "stream",
     "text": [
      "276618 71019 139713 946857 578840\n"
     ]
    }
   ],
   "source": [
    "print(len(uber), len(lyft), len(citi), len(green_taxi), len(yellow_taxi))"
   ]
  },
  {
   "cell_type": "code",
   "execution_count": 15,
   "metadata": {},
   "outputs": [],
   "source": [
    "def set_list(list_of_lists):\n",
    "    list_copy = list(list_of_lists)\n",
    "    return [list(item) for item in set(tuple(row) for row in list_copy)]\n",
    "\n",
    "def bin_count(ride_data, index):\n",
    "    ride_copy = list(ride_data)\n",
    "    bin_times = [row[index] for row in ride_copy]\n",
    "    return Counter(bin_times)\n",
    "\n",
    "def sort_list(list_of_lists, index):\n",
    "    list_copy = list(list_of_lists)\n",
    "    return sorted(list_copy, key=itemgetter(index))\n",
    "     \n",
    "def append_bin_count(ride_service, bin_cnt):\n",
    "    ride_service_copy = list(ride_service)\n",
    "    for row in ride_service_copy:\n",
    "        bin_id = row[0]\n",
    "        row.append(bin_cnt[bin_id])\n",
    "    return ride_service_copy\n",
    "\n",
    "def append_time_of_day(ride_service):\n",
    "    ride_service_copy = list(ride_service)\n",
    "    for row in ride_service_copy:\n",
    "        row.append(row[0] % 24)\n",
    "    return ride_service_copy\n",
    "\n",
    "def get_weekday(ride_service):\n",
    "    ride_service_copy = list(ride_service)\n",
    "    for row in ride_service_copy:\n",
    "        row[2] = datetime.utcfromtimestamp(row[2]).weekday()\n",
    "    return ride_service_copy\n",
    "\n",
    "def append_pipeline(ride_service):\n",
    "    ride_service_copy = list(ride_service)\n",
    "    ride_service_bin_cnt = bin_count(ride_service_copy, 0)\n",
    "    ride_service_copy = get_weekday(ride_service)\n",
    "    ride_service_copy = set_list(ride_service_copy)\n",
    "    ride_service_copy = sort_list(ride_service_copy, 0)\n",
    "    ride_service_copy = append_bin_count(ride_service_copy, ride_service_bin_cnt)\n",
    "    ride_service_copy = append_time_of_day(ride_service_copy)\n",
    "    return ride_service_copy"
   ]
  },
  {
   "cell_type": "code",
   "execution_count": 16,
   "metadata": {},
   "outputs": [],
   "source": [
    "# Append bin_count to each ride service\n",
    "uber = append_pipeline(uber)\n",
    "lyft = append_pipeline(lyft)\n",
    "citi = append_pipeline(citi)\n",
    "green_taxi = append_pipeline(green_taxi)\n",
    "yellow_taxi = append_pipeline(yellow_taxi)"
   ]
  },
  {
   "cell_type": "code",
   "execution_count": 17,
   "metadata": {},
   "outputs": [
    {
     "name": "stdout",
     "output_type": "stream",
     "text": [
      "['bin_time', 'company', 'week_day', 'sunny', 'windy', 'rainy', 'cloudy', 'temp', 'dew_point', 'uv_index', 'precip_intensity', 'wind_speed', 'cloud_cover', 'apparent_temperature', 'bin_cnt', 'time_of_day']\n"
     ]
    }
   ],
   "source": [
    "# Update header\n",
    "header.append('bin_cnt')\n",
    "header.append('time_of_day')\n",
    "header.remove('unix_time')\n",
    "header.insert(2, 'week_day')\n",
    "print(header)"
   ]
  },
  {
   "cell_type": "code",
   "execution_count": 18,
   "metadata": {},
   "outputs": [
    {
     "name": "stdout",
     "output_type": "stream",
     "text": [
      "1463 1462 1448 1463 1464\n"
     ]
    }
   ],
   "source": [
    "print(len(uber), len(lyft), len(citi), len(green_taxi), len(yellow_taxi))"
   ]
  },
  {
   "cell_type": "code",
   "execution_count": 19,
   "metadata": {},
   "outputs": [],
   "source": [
    "citi_with_header = [header] + citi\n",
    "\n",
    "with open(\"citi_brooklyn_weather.csv\",'w') as out_file:\n",
    "    writer = csv.writer(out_file)\n",
    "    for row in citi_with_header:    \n",
    "        writer.writerow(row)"
   ]
  },
  {
   "cell_type": "markdown",
   "metadata": {},
   "source": [
    "## Plot data"
   ]
  },
  {
   "cell_type": "code",
   "execution_count": 20,
   "metadata": {},
   "outputs": [],
   "source": [
    "def get_x_y(data, x_index, y_index):\n",
    "    x, y = [], []\n",
    "    for row in data:\n",
    "        x.append(row[x_index])\n",
    "        y.append(row[y_index])\n",
    "    return x, y\n",
    "\n",
    "def get_mean_per_hour(data, day_index):\n",
    "    # Week header : ['bin_time', 'bin_cnt', 'time_of_day']\n",
    "    data = data.copy()\n",
    "    day = {}\n",
    "    for row in data:\n",
    "        if row[2] == day_index:\n",
    "            time_of_day = row[len(row)-1]\n",
    "            bin_cnt = row[len(row)-2]\n",
    "            if time_of_day in day:\n",
    "                day[time_of_day].append(bin_cnt)\n",
    "            else:\n",
    "                day[time_of_day] = [bin_cnt]\n",
    "    x,y = [],[]\n",
    "    for key in sorted(day):\n",
    "        x.append(key)\n",
    "        y.append(np.mean(np.array(day[key])))\n",
    "    return x,y\n",
    "\n",
    "def plot_rides(x, y, title, file_name):\n",
    "    plt.xticks(x, np.arange(len(x)))\n",
    "#     plt.ylabel(\"Pickup Count\")\n",
    "#     plt.xlabel(\"Hour of day\")\n",
    "    plt.bar(x,y, color='#40C4FF')\n",
    "    plt.title(title)\n",
    "    plt.savefig(file_name, bbox_inches='tight')\n",
    "    plt.show()"
   ]
  },
  {
   "cell_type": "code",
   "execution_count": 21,
   "metadata": {},
   "outputs": [
    {
     "data": {
      "image/png": "[encoded data removed]",
      "text/plain": [
       "<Figure size 432x288 with 1 Axes>"
      ]
     },
     "metadata": {
      "needs_background": "light"
     },
     "output_type": "display_data"
    },
    {
     "data": {
      "image/png": "[encoded data removed]",
      "text/plain": [
       "<Figure size 432x288 with 1 Axes>"
      ]
     },
     "metadata": {
      "needs_background": "light"
     },
     "output_type": "display_data"
    },
    {
     "data": {
      "image/png": "[encoded data removed]",
      "text/plain": [
       "<Figure size 432x288 with 1 Axes>"
      ]
     },
     "metadata": {
      "needs_background": "light"
     },
     "output_type": "display_data"
    },
    {
     "data": {
      "image/png": "[encoded data removed]",
      "text/plain": [
       "<Figure size 432x288 with 1 Axes>"
      ]
     },
     "metadata": {
      "needs_background": "light"
     },
     "output_type": "display_data"
    },
    {
     "data": {
      "image/png": "[encoded data removed]",
      "text/plain": [
       "<Figure size 432x288 with 1 Axes>"
      ]
     },
     "metadata": {
      "needs_background": "light"
     },
     "output_type": "display_data"
    },
    {
     "data": {
      "image/png": "[encoded data removed]",
      "text/plain": [
       "<Figure size 432x288 with 1 Axes>"
      ]
     },
     "metadata": {
      "needs_background": "light"
     },
     "output_type": "display_data"
    },
    {
     "data": {
      "image/png": "[encoded data removed]",
      "text/plain": [
       "<Figure size 432x288 with 1 Axes>"
      ]
     },
     "metadata": {
      "needs_background": "light"
     },
     "output_type": "display_data"
    }
   ],
   "source": [
    "# Mon - Sun : 0 - 6\n",
    "\n",
    "# Get averaged week day data \n",
    "x_mon, y_mon = get_mean_per_hour(citi, 0)\n",
    "x_tues, y_tues = get_mean_per_hour(citi, 1)\n",
    "x_wed, y_wed = get_mean_per_hour(citi, 2)\n",
    "x_thu, y_thu = get_mean_per_hour(citi, 3)\n",
    "x_fri, y_fri = get_mean_per_hour(citi, 4)\n",
    "x_sat, y_sat = get_mean_per_hour(citi, 5)\n",
    "x_sun, y_sun = get_mean_per_hour(citi, 6)\n",
    "\n",
    "# Plot each day\n",
    "plot_rides(x_mon, y_mon, \"Monday\", 'mon.png')\n",
    "plot_rides(x_tues, y_tues, \"Tuesday\", 'tue.png')\n",
    "plot_rides(x_wed, y_wed, \"Wednesday\", 'wed.png')\n",
    "plot_rides(x_thu, y_thu, \"Thursday\", 'thu.png')\n",
    "plot_rides(x_fri, y_fri, \"Friday\", 'fri.png')\n",
    "plot_rides(x_sat, y_sat, \"Saturday\", 'sat.png')\n",
    "plot_rides(x_sun, y_sun, \"Sunday\", 'sun.png')\n"
   ]
  },
  {
   "cell_type": "markdown",
   "metadata": {},
   "source": [
    "## Regression"
   ]
  },
  {
   "cell_type": "code",
   "execution_count": 23,
   "metadata": {},
   "outputs": [],
   "source": [
    "def split_data(data, prob):\n",
    "    \"\"\"Split data into fractions [prob, 1 - prob]\"\"\"\n",
    "    results = [], []\n",
    "    for row in data:\n",
    "        results[0 if random.random() < prob else 1].append(row)\n",
    "    return results"
   ]
  },
  {
   "cell_type": "code",
   "execution_count": 24,
   "metadata": {},
   "outputs": [],
   "source": [
    "def train_test_split(x, y, test_pct):\n",
    "    \"\"\"Split the features X and the labels y into x_train, x_test and y_train, y_test\n",
    "    designated by test_pct. A common convention in data science is to do a 80% training\n",
    "    data 20% test data split\"\"\"\n",
    "    data = zip(x, y)                                # pair corresponding values\n",
    "    train, test = split_data(data, 1 - test_pct)    # split the data set of pairs\n",
    "    x_train, y_train = zip(*train)                  # magical un-zip trick\n",
    "    x_test, y_test = zip(*test)\n",
    "    return x_train, x_test, y_train, y_test"
   ]
  },
  {
   "cell_type": "code",
   "execution_count": 46,
   "metadata": {},
   "outputs": [],
   "source": [
    "def MultipleLinearRegression(X, y, linear_model):\n",
    "\n",
    "    lm = linear_model\n",
    "    ### DO NOT TOUCH THIS PORTION OF THE CODE###\n",
    "    params = np.append(lm.intercept_,lm.coef_)\n",
    "    predictions = lm.predict(X)\n",
    "\n",
    "    newX = np.append(np.ones((len(X),1)), X, axis=1)\n",
    "    MSE = (sum((y-predictions)**2))/(len(newX)-len(newX[0]))\n",
    "\n",
    "    var_b = MSE*(np.linalg.inv(np.dot(newX.T,newX)).diagonal())\n",
    "    sd_b = np.sqrt(np.abs(var_b))\n",
    "    ts_b = params/ sd_b\n",
    "\n",
    "    p_values =[1-2*(1-stats.t.cdf(np.abs(i),(len(newX)-1))) for i in ts_b]\n",
    "#     p_values =[2*(stats.t.cdf(np.abs(i),(len(newX)-1))) for i in ts_b]\n",
    "\n",
    "    myDF3 = pd.DataFrame()\n",
    "    myDF3[\"Coefficients\"],myDF3[\"Standard Errors\"],myDF3[\"t values\"],myDF3[\"Probabilites\"] = [params,sd_b,ts_b,p_values]\n",
    "    \n",
    "    print(myDF3)"
   ]
  },
  {
   "cell_type": "code",
   "execution_count": 47,
   "metadata": {},
   "outputs": [],
   "source": [
    "def load_data(data, features, x_variables, y_variable):\n",
    "        X = []\n",
    "        y = []\n",
    "        for row in data:\n",
    "            if row == []:\n",
    "                continue\n",
    "            explanatory_var = []\n",
    "            ### TODO: Select independent variables that might best predict the dependent variables ###\n",
    "            for var in x_variables:\n",
    "                explanatory_var.append(float(row[features.index(var)]))\n",
    "            \n",
    "#             explanatory_var.append(\n",
    "#                 float(row[features.index('sunny')]))\n",
    "#             explanatory_var.append(\n",
    "#                 float(row[features.index('windy')]))\n",
    "#             explanatory_var.append(\n",
    "#                 float(row[features.index('rainy')]))\n",
    "#             explanatory_var.append(\n",
    "#                 float(row[features.index('cloudy')]))\n",
    "#             explanatory_var.append(\n",
    "#                 float(row[features.index('temp')]))\n",
    "#             explanatory_var.append(\n",
    "#                 float(row[features.index('dew_point')]))\n",
    "#             explanatory_var.append(\n",
    "#                 float(row[features.index('uv_index')]))\n",
    "#             explanatory_var.append(\n",
    "#                 float(row[features.index('precip_intensity')]))\n",
    "#             explanatory_var.append(\n",
    "#                 float(row[features.index('wind_speed')]))\n",
    "#             explanatory_var.append(\n",
    "#                 float(row[features.index('cloud_cover')]))\n",
    "#             explanatory_var.append(\n",
    "#                 float(row[features.index('apparent_temperature')]))\n",
    "            X.append(explanatory_var)\n",
    "            # Since our label bin_cnt is at the 2nd to the end of the row\n",
    "#             bin_cnt = int(row[len(row)-2])\n",
    "            y.append(int(row[features.index(y_variable)]))\n",
    "        return np.array(X, dtype='float64'), np.array(y, dtype='float64')    "
   ]
  },
  {
   "cell_type": "code",
   "execution_count": 48,
   "metadata": {},
   "outputs": [],
   "source": [
    "def run_multi_regression(X, y, p):\n",
    "    ##################################################################################\n",
    "    # TODO: use train test split to split data into x_train, x_test, y_train, y_test #\n",
    "    ##################################################################################\n",
    "\n",
    "    x_train, x_test, y_train, y_test = train_test_split(X, y, p)\n",
    "    x_train = np.array(x_train)\n",
    "    x_test = np.array(x_test)\n",
    "    y_train = np.array(y_train)\n",
    "    y_test = np.array(y_test)\n",
    "\n",
    "    ###########################################################################\n",
    "    # TODO: Use Sci-Kit Learn to create the Linear Model and Output R-squared #\n",
    "    ###########################################################################\n",
    "\n",
    "    linear_model = LinearRegression().fit(x_train, y_train)\n",
    "\n",
    "    # Prints out the Report\n",
    "    MultipleLinearRegression(x_train, y_train, linear_model)\n",
    "\n",
    "    ##############################################################################\n",
    "    # TODO: print the training linear_model score, training mse, and testing mse #\n",
    "    ##############################################################################\n",
    "    y_train_pred = linear_model.predict(x_train)\n",
    "    y_test_pred = linear_model.predict(x_test)\n",
    "    print()\n",
    "    print(\"Training R-squared:\", r2_score(y_train, y_train_pred))\n",
    "    print(\"Training MSE:\", mean_squared_error(y_train, y_train_pred))\n",
    "    print(\"Testing MSE:\", mean_squared_error(y_test, y_test_pred))\n",
    "    print()\n",
    "    \n",
    "    return linear_model, x_test, y_test, y_test_pred\n",
    "    "
   ]
  },
  {
   "cell_type": "code",
   "execution_count": 49,
   "metadata": {},
   "outputs": [
    {
     "name": "stdout",
     "output_type": "stream",
     "text": [
      "Variables\n",
      "=========\n",
      "1 temp\n",
      "2 dew_point\n",
      "3 uv_index\n",
      "4 precip_intensity\n",
      "5 wind_speed\n",
      "6 cloud_cover\n",
      "7 apparent_temperature\n",
      "\n",
      "Uber\n",
      "====\n",
      "   Coefficients  Standard Errors  t values  Probabilites\n",
      "0    155.573232        33.885792  4.591105      0.999995\n",
      "1   -238.875143       279.282301 -0.855318      0.607445\n",
      "2   -407.231976        49.279049 -8.263795      1.000000\n",
      "3    -76.006763        13.732695 -5.534730      1.000000\n",
      "4   -103.400328        44.254627 -2.336486      0.980361\n",
      "5     -3.087338        15.238386 -0.202603      0.160518\n",
      "6     72.293237         9.322991  7.754297      1.000000\n",
      "7    728.348516       293.608847  2.480676      0.986743\n",
      "\n",
      "Training R-squared: 0.09786347846457599\n",
      "Training MSE: 7574.145378349058\n",
      "Testing MSE: 8884.554811465443\n",
      "\n",
      "Lyft\n",
      "====\n",
      "   Coefficients  Standard Errors   t values  Probabilites\n",
      "0    -37.871109        12.520047  -3.024837      0.997458\n",
      "1    404.519281       102.510338   3.946132      0.999916\n",
      "2    -41.613351        17.956271  -2.317483      0.979350\n",
      "3    -73.690147         4.890747 -15.067258      1.000000\n",
      "4     21.510365        17.997706   1.195173      0.767738\n",
      "5    -11.178876         5.487402  -2.037189      0.958144\n",
      "6      0.289511         3.361306   0.086130      0.068623\n",
      "7   -248.060323       106.922765  -2.319995      0.979487\n",
      "\n",
      "Training R-squared: 0.19341260247913705\n",
      "Training MSE: 1005.3147924449736\n",
      "Testing MSE: 721.4578893133845\n",
      "\n",
      "Citibike\n",
      "========\n",
      "   Coefficients  Standard Errors  t values  Probabilites\n",
      "0    -77.475369        25.490734 -3.039354      0.997577\n",
      "1    502.436729       215.148144  2.335306      0.980305\n",
      "2   -296.401500        36.433386 -8.135436      1.000000\n",
      "3      5.828970         9.942967  0.586241      0.442174\n",
      "4   -117.172563        35.755105 -3.277086      0.998920\n",
      "5     46.585673        11.059859  4.212140      0.999973\n",
      "6     21.928242         6.832014  3.209631      0.998635\n",
      "7     -3.073677       224.709534 -0.013678      0.010911\n",
      "\n",
      "Training R-squared: 0.2644702456442748\n",
      "Training MSE: 4169.186629105381\n",
      "Testing MSE: 5231.893850552719\n",
      "\n",
      "Green Taxi\n",
      "==========\n",
      "   Coefficients  Standard Errors   t values  Probabilites\n",
      "0   -143.463966       153.573223  -0.934173      0.649596\n",
      "1   3350.073620      1210.082589   2.768467      0.994281\n",
      "2  -1691.186184       219.649510  -7.699476      1.000000\n",
      "3   -832.925692        61.779075 -13.482327      1.000000\n",
      "4   -306.429352       198.719238  -1.542022      0.876666\n",
      "5   -124.696781        67.459427  -1.848471      0.935218\n",
      "6    283.686868        41.660662   6.809466      1.000000\n",
      "7   -561.754960      1259.954622  -0.445853      0.344216\n",
      "\n",
      "Training R-squared: 0.16215567443673728\n",
      "Training MSE: 160268.62638459337\n",
      "Testing MSE: 151888.6461238695\n",
      "\n",
      "Yellow Taxi\n",
      "===========\n",
      "   Coefficients  Standard Errors  t values  Probabilites\n",
      "0    565.699443       116.017039  4.876003      0.999999\n",
      "1   -506.750622       942.856631 -0.537463      0.408951\n",
      "2     34.891079       169.920440  0.205338      0.162656\n",
      "3   -445.006340        46.101217 -9.652811      1.000000\n",
      "4    -43.488525       161.975616 -0.268488      0.211629\n",
      "5   -181.751539        51.470055 -3.531209      0.999570\n",
      "6      8.452944        31.827160  0.265589      0.209398\n",
      "7    450.784215       990.375889  0.455165      0.350926\n",
      "\n",
      "Training R-squared: 0.15333213225370657\n",
      "Training MSE: 91409.94186359765\n",
      "Testing MSE: 56474.62654070571\n",
      "\n"
     ]
    }
   ],
   "source": [
    "# DO not change this seed. It guarantees that all students perform the same train and test split\n",
    "# random.seed(1)\n",
    "# Setting p to 0.2 allows for a 80% training and 20% test split\n",
    "p = 0.2\n",
    "X = []\n",
    "y = []\n",
    "\n",
    "['bin_time', 'company', 'week_day', 'sunny', 'windy', 'rainy', 'cloudy', 'temp', 'dew_point', 'uv_index', 'precip_intensity', 'wind_speed', 'cloud_cover', 'apparent_temperature', 'bin_cnt', 'time_of_day']\n",
    "# x_var = ['sunny', 'windy', 'rainy', 'cloudy', 'temp', 'dew_point', 'uv_index', 'precip_intensity', 'wind_speed', 'cloud_cover', 'apparent_temperature']        \n",
    "x_var = ['temp', 'dew_point', 'uv_index', 'precip_intensity', 'wind_speed', 'cloud_cover', 'apparent_temperature']        \n",
    "# x_var = ['temp', 'dew_point', 'precip_intensity', 'wind_speed', 'cloud_cover']        \n",
    "\n",
    "y_var = 'bin_cnt'\n",
    "\n",
    "# Prints variables used\n",
    "print(\"Variables\")\n",
    "print(\"=========\")\n",
    "print(\"X:\")\n",
    "for i in range(len(x_var)):\n",
    "    if i == 0:\n",
    "        print(i, \"intercept\")\n",
    "    else:\n",
    "        print(i, x_var[i])\n",
    "print(\"y:\",y_var)\n",
    "print()\n",
    "\n",
    "print(\"Uber\")\n",
    "print(\"====\")\n",
    "X_uber, y_uber = load_data(uber, header, x_var, y_var)\n",
    "_,_,_,_ = run_multi_regression(X_uber, y_uber, p)\n",
    "\n",
    "# ones = np.ones(len(X_uber[0]))\n",
    "# X_uber = sm.add_constant(np.column_stack((X_uber[0], ones)))\n",
    "# for ele in X_uber[1:]:\n",
    "#     X_uber = sm.add_constant(np.column_stack((ele, X_uber)))\n",
    "# results = sm.OLS(y_uber, X_uber).fit().summary()\n",
    "\n",
    "print(\"Lyft\")\n",
    "print(\"====\")\n",
    "X_lyft, y_lyft = load_data(lyft, header, x_var, y_var)\n",
    "_,_,_,_ = run_multi_regression(X_lyft, y_lyft, p)\n",
    "\n",
    "print(\"Citibike\")\n",
    "print(\"========\")\n",
    "X_citi, y_citi = load_data(citi, header, x_var, y_var)\n",
    "_,_,_,_ = run_multi_regression(X_citi, y_citi, p)\n",
    "\n",
    "print(\"Green Taxi\")\n",
    "print(\"==========\")\n",
    "X_green, y_green = load_data(green_taxi, header, x_var, y_var)\n",
    "_,_,_,_ = run_multi_regression(X_green, y_green, p)\n",
    "\n",
    "print(\"Yellow Taxi\")\n",
    "print(\"===========\")\n",
    "X_yellow, y_yellow = load_data(yellow_taxi, header, x_var, y_var)\n",
    "_,_,_,_ = run_multi_regression(X_yellow, y_yellow, p)  \n",
    "\n"
   ]
  },
  {
   "cell_type": "code",
   "execution_count": 40,
   "metadata": {},
   "outputs": [
    {
     "name": "stdout",
     "output_type": "stream",
     "text": [
      "Variables\n",
      "=========\n",
      "0 time_of_day\n",
      "1 bin_cnt\n",
      "\n",
      "Citibike\n",
      "========\n",
      "2904.8654585254967\n",
      "2718.720009560433\n",
      "2306.5496552113327\n"
     ]
    },
    {
     "name": "stderr",
     "output_type": "stream",
     "text": [
      "/anaconda3/lib/python3.7/site-packages/sklearn/linear_model/ridge.py:125: LinAlgWarning: Ill-conditioned matrix (rcond=1.28587e-21): result may not be accurate.\n",
      "  overwrite_a=True).T\n"
     ]
    },
    {
     "data": {
      "text/plain": [
       "<function matplotlib.pyplot.show(*args, **kw)>"
      ]
     },
     "execution_count": 40,
     "metadata": {},
     "output_type": "execute_result"
    },
    {
     "data": {
      "image/png": "[encoded data removed]",
      "text/plain": [
       "<Figure size 432x288 with 1 Axes>"
      ]
     },
     "metadata": {
      "needs_background": "light"
     },
     "output_type": "display_data"
    }
   ],
   "source": [
    "# Use only one feature\n",
    "x_var = ['time_of_day']\n",
    "y_var = 'bin_cnt'\n",
    "\n",
    "print(\"Variables\")\n",
    "print(\"=========\")\n",
    "for i in range(len(x_var)):\n",
    "    print(i, x_var[i])\n",
    "print(len(x_var), y_var)\n",
    "print()\n",
    "\n",
    "print(\"Citibike\")\n",
    "print(\"========\")\n",
    "x_, y_ = load_data(citi, header, x_var, y_var)\n",
    "\n",
    "# Trim to have full day recordings\n",
    "x_ = x_[:-8]\n",
    "y_ = y_[:-8]\n",
    "\n",
    "# Reshape to group by day\n",
    "# x_ = np.reshape(x_, (-1,24))\n",
    "# y_ = np.reshape(y_, (-1,24))\n",
    "\n",
    "# Train: 40 days\n",
    "x_train = x_[:40*24]\n",
    "y_train = y_[:40*24]\n",
    "\n",
    "# Test: 20 days\n",
    "x_test = x_[:-20*24]\n",
    "y_test = y_[:-20*24]\n",
    "\n",
    "colors = ['#D500F9', '#2979FF', '#1DE9B6']\n",
    "lw = 2\n",
    "\n",
    "# Plot test points \n",
    "plt.scatter(x_test[:24], y_test[:24], color='#263238', s=30, marker='o', label=\"test points\")\n",
    "plt.plot(x_test[:24], y_test[:24], color='#37474F', linewidth=lw, \n",
    "         label='ground truth')\n",
    "\n",
    "for i, degree in enumerate([3, 5, 7]):\n",
    "    poly_model = make_pipeline(PolynomialFeatures(degree), Ridge())\n",
    "    poly_model.fit(x_train, y_train)\n",
    "    y_test_pred = poly_model.predict(x_test)\n",
    "    print(mean_squared_error(y_test, y_test_pred))\n",
    "    plt.plot(x_test[:24], y_test_pred[:24], color=colors[i], linewidth=lw,\n",
    "             label=\"degree %d\" % degree)\n",
    "\n",
    "plt.xlabel(\"Time of Day (hour)\")\n",
    "plt.ylabel(\"Number of Rides\")\n",
    "plt.title(\"Actual Ride Volume vs Predicted Ride Volume\")\n",
    "plt.xticks(x_test[:24], np.arange(len(x_test[:24])))\n",
    "plt.legend(loc='upper left')\n",
    "plt.savefig(\"citi_poly_regression\", bbox_inches='tight')\n",
    "plt.show\n"
   ]
  },
  {
   "cell_type": "code",
   "execution_count": null,
   "metadata": {},
   "outputs": [],
   "source": []
  }
 ],
 "metadata": {
  "kernelspec": {
   "display_name": "Python 3",
   "language": "python",
   "name": "python3"
  },
  "language_info": {
   "codemirror_mode": {
    "name": "ipython",
    "version": 3
   },
   "file_extension": ".py",
   "mimetype": "text/x-python",
   "name": "python",
   "nbconvert_exporter": "python",
   "pygments_lexer": "ipython3",
   "version": "3.7.3"
  }
 },
 "nbformat": 4,
 "nbformat_minor": 2
}
